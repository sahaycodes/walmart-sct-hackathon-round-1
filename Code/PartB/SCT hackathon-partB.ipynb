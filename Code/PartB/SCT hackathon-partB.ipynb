{
 "cells": [
  {
   "cell_type": "code",
   "execution_count": 4,
   "id": "f7e6b1eb",
   "metadata": {},
   "outputs": [],
   "source": [
    "import numpy as np \n",
    "import pandas as pd \n",
    "import seaborn as sns \n",
    "import os \n",
    "import csv \n",
    "import math\n"
   ]
  },
  {
   "cell_type": "code",
   "execution_count": 5,
   "id": "50c27875",
   "metadata": {},
   "outputs": [
    {
     "name": "stdout",
     "output_type": "stream",
     "text": [
      "Collecting typing\n",
      "  Downloading typing-3.7.4.3.tar.gz (78 kB)\n",
      "Building wheels for collected packages: typing\n",
      "  Building wheel for typing (setup.py): started\n",
      "  Building wheel for typing (setup.py): finished with status 'done'\n",
      "  Created wheel for typing: filename=typing-3.7.4.3-py3-none-any.whl size=26325 sha256=3f24c7740d8624e332d039223178c5a42bb679b9a1ab198d5486ffb9b6faecfd\n",
      "  Stored in directory: c:\\users\\user\\appdata\\local\\pip\\cache\\wheels\\fa\\17\\1f\\332799f975d1b2d7f9b3f33bbccf65031e794717d24432caee\n",
      "Successfully built typing\n",
      "Installing collected packages: typing\n",
      "Successfully installed typing-3.7.4.3\n"
     ]
    }
   ],
   "source": [
    "#Part B SCT WALMART HACKATHON \n",
    "!pip install typing\n"
   ]
  },
  {
   "cell_type": "code",
   "execution_count": 6,
   "id": "443c82b3",
   "metadata": {},
   "outputs": [
    {
     "name": "stdout",
     "output_type": "stream",
     "text": [
      "Collecting geopy\n",
      "  Downloading geopy-2.4.1-py3-none-any.whl (125 kB)\n",
      "Collecting geographiclib<3,>=1.52\n",
      "  Downloading geographiclib-2.0-py3-none-any.whl (40 kB)\n",
      "Installing collected packages: geographiclib, geopy\n",
      "Successfully installed geographiclib-2.0 geopy-2.4.1\n"
     ]
    }
   ],
   "source": [
    "!pip install geopy"
   ]
  },
  {
   "cell_type": "code",
   "execution_count": 9,
   "id": "836a21ca",
   "metadata": {},
   "outputs": [],
   "source": [
    "from typing import List\n",
    "from geopy.distance import geodesic\n",
    "import itertools"
   ]
  },
  {
   "cell_type": "code",
   "execution_count": 10,
   "id": "98937076",
   "metadata": {},
   "outputs": [],
   "source": [
    "from typing import Tuple"
   ]
  },
  {
   "cell_type": "code",
   "execution_count": 11,
   "id": "38150f09",
   "metadata": {},
   "outputs": [],
   "source": [
    "def haversine_dist(point1: Tuple[float, float], point2: Tuple[float,float]) -> float:\n",
    "    #calculate the haversine distance b/w 2 points\n",
    "    \n",
    "    lat1, lon1=point1\n",
    "    lat2, lon2=point2\n",
    "    R=6371 #radius of earth\n",
    "    \n",
    "    dlat=math.radians(lat2-lat1)\n",
    "    dlon=math.radians(lon2-lon1)\n",
    "    \n",
    "    a=(\n",
    "        math.sin(dlat/2)*math.sin(dlat/2)+math.cos(math.radians(lat1))*math.cos(math.radians(lat2))*math.sin(dlon/2)*math.sin(dlon/2)\n",
    "    )\n",
    "    c=2*math.atan2(math.sqrt(a), math.sqrt(1-a))\n",
    "    \n",
    "    return R*c"
   ]
  },
  {
   "cell_type": "code",
   "execution_count": 14,
   "id": "934e43a6",
   "metadata": {},
   "outputs": [],
   "source": [
    "file_path='D:/Users/User/Downloads/sct_hackathon'\n",
    "def read_input_data(file_path:str) -> List[dict]:\n",
    "    #read the input data from a CSV file\n",
    "    orders = []\n",
    "    file_name = file_path.split('/')[-1]\n",
    "    with open(file_path,mode='r') as file:\n",
    "        csv_reader = csv.DictReader(file)\n",
    "        for row in csv_reader:\n",
    "            order = {\n",
    "                'order_id':row['order_id'],\n",
    "                'lng':float(row['lng']),\n",
    "                'lat':float(row['lat']),\n",
    "                'depot_lat':float(row['depot_lat'])\n",
    "            }\n",
    "            orders.append(order)\n",
    "    return orders      "
   ]
  },
  {
   "cell_type": "code",
   "execution_count": 15,
   "id": "e9358a01",
   "metadata": {},
   "outputs": [],
   "source": [
    "def calculate_total_distance(orders: List[dict], routes: List[List[dict]]) -> float:\n",
    "    \n",
    "    #Calculate the total distance traveled across all vehicles\n",
    "    \n",
    "    total_distance = 0\n",
    "    for route in routes:\n",
    "        previous_order = route[0]\n",
    "        for current_order in route[1:]:\n",
    "            total_distance += calculate_distance(previous_order, current_order)\n",
    "            previous_order = current_order\n",
    "        total_distance += calculate_distance(previous_order, route[0])\n",
    "    return round(total_distance, 2)"
   ]
  },
  {
   "cell_type": "code",
   "execution_count": 19,
   "id": "47ea682f",
   "metadata": {},
   "outputs": [
    {
     "name": "stdout",
     "output_type": "stream",
     "text": [
      "   order_id        lng       lat  depot_lat  depot_lng\n",
      "0   2556635  126.53566  43.82912    43.8502   126.5445\n",
      "1   1507929  126.54484  43.84685    43.8502   126.5445\n",
      "2   2234840  126.51653  43.81547    43.8502   126.5445\n",
      "3    511292  126.56568  43.84987    43.8502   126.5445\n",
      "4   3846410  126.55650  43.84634    43.8502   126.5445\n"
     ]
    }
   ],
   "source": [
    "import pandas as pd\n",
    "import os\n",
    "\n",
    "# Specify the folder path containing the CSV files\n",
    "folder_path = r'D:/Users/User/Downloads/sct_hackathon'  # Replace 'your_folder_path' with the actual folder path\n",
    "\n",
    "# Initialize an empty list to store DataFrames\n",
    "dfs = []\n",
    "\n",
    "# Iterate over each file in the folder\n",
    "for filename in os.listdir(folder_path):\n",
    "    if filename.endswith('.csv'):  # Check if the file is a CSV file\n",
    "        file_path = os.path.join(folder_path, filename)\n",
    "        # Read the CSV file into a DataFrame\n",
    "        df = pd.read_csv(file_path)\n",
    "        # Append the DataFrame to the list\n",
    "        dfs.append(df)\n",
    "\n",
    "# Concatenate all DataFrames in the list into a single DataFrame\n",
    "combined_df = pd.concat(dfs, ignore_index=True)\n",
    "\n",
    "# Print or use the combined DataFrame as needed\n",
    "print(combined_df.head())  # Display the first few rows of the combined DataFrame\n"
   ]
  },
  {
   "cell_type": "code",
   "execution_count": 21,
   "id": "d22f1545",
   "metadata": {},
   "outputs": [],
   "source": [
    "def calculate_distance_matrix(orders: List[dict]) -> List[List[float]]:\n",
    "    \"\"\"\n",
    "    Calculate the distance matrix for all orders\n",
    "    \"\"\"\n",
    "    n = len(orders)\n",
    "    distance_matrix = [[0 for _ in range(n)] for _ in range(n)]\n",
    "    for i in range(n):\n",
    "        for j in range(i, n):\n",
    "            distance = calculate_distance(orders[i], orders[j])\n",
    "            distance_matrix[i][j] = distance\n",
    "            distance_matrix[j][i] = distance\n",
    "    return distance_matrix"
   ]
  },
  {
   "cell_type": "code",
   "execution_count": 22,
   "id": "e3d6fb57",
   "metadata": {},
   "outputs": [],
   "source": [
    "def calculate_initial_routes(orders: List[dict], capacity: int) -> List[List[dict]]:\n",
    "    \"\"\"\n",
    "    Calculate the initial routes using the savings algorithm\n",
    "    \"\"\"\n",
    "    n = len(orders)\n",
    "    distance_matrix = calculate_distance_matrix(orders)\n",
    "    savings = []\n",
    "    for i in range(n):\n",
    "        for j in range(i+1, n):\n",
    "            savings.append((distance_matrix[i][0] + distance_matrix[0][j] - distance_matrix[i][j], i, j))\n",
    "    savings.sort(reverse=True)\n",
    "    routes = [[] for _ in range(2)]\n",
    "    for s in savings:\n",
    "        i, a, b = s[1:]\n",
    "        if len(routes[0]) <= capacity and len(routes[1]) <= capacity:\n",
    "            if not routes[0] or distance_matrix[routes[0][-1]['order_id']][a] > distance_matrix[routes[0][-1]['order_id']][b]:\n",
    "                routes[0].append(orders[a])\n",
    "                routes[1].append(orders[b])\n",
    "            else:\n",
    "                routes[0].append(orders[b])\n",
    "                routes[1].append(orders[a])\n",
    "        elif len(routes[0]) <= capacity:\n",
    "            routes[0].append(orders[a])\n",
    "            routes[1].append"
   ]
  },
  {
   "cell_type": "code",
   "execution_count": 23,
   "id": "3a7f6118",
   "metadata": {},
   "outputs": [],
   "source": [
    "def calculate_routes(orders: List[dict], capacity: int) -> List[List[dict]]:\n",
    "    \"\"\"\n",
    "    Calculate the routes using the 2-opt algorithm\n",
    "    \"\"\"\n",
    "    routes = calculate_initial_routes(orders, capacity)\n",
    "    n = len(orders)\n",
    "    improved = True\n",
    "    while improved:\n",
    "        improved = False\n",
    "        for i in range(len(routes)):\n",
    "            for j in range(1, len(routes[i])-1):\n",
    "                for k in range(j+1, len(routes[i])):\n",
    "                    new_routes = routes.copy()\n",
    "                    new_routes[i][j:k] = reversed(new_routes[i][j:k])\n",
    "                    new_distance = calculate_total_distance(new_routes, orders)\n",
    "                    if new_distance < calculate_total_distance(routes, orders):\n",
    "                        routes = new_routes\n",
    "                        improved = True\n",
    "    return routes"
   ]
  },
  {
   "cell_type": "code",
   "execution_count": 26,
   "id": "37df7ff8",
   "metadata": {},
   "outputs": [],
   "source": [
    "def write_output_data(file_path: str, orders: List[dict], routes: List[List[dict]]) -> None:\n",
    "    \"\"\"\n",
    "    Write the output data to a CSV file\n",
    "    \"\"\"\n",
    "    with open(file_path, mode='w', newline='') as file:\n",
    "        fieldnames = ['vehicle_num', 'dlvr_seq_num', 'order_id', 'lng', 'lat', 'depot_lat', 'depot_lng']\n",
    "        csv_writer = csv.DictWriter(file, fieldnames=fieldnames)\n",
    "        csv_writer.writeheader()\n",
    "        for i, route in enumerate(routes):\n",
    "            for j, order in enumerate(route):\n",
    "                csv_writer.writerow({\n",
    "                    'vehicle_num': i+1,\n",
    "                    'dlvr_seq_num': j+1,\n",
    "                    'order_id': order['order_id'],\n",
    "                    'lng': order['lng'],\n",
    "                    'lat':order['lat'],\n",
    "                    'depot_lat':order['depot_lat'],\n",
    "                    'depot_lng':order['depot_lng']\n",
    "                })        \n",
    "                    \n",
    "                "
   ]
  },
  {
   "cell_type": "code",
   "execution_count": 27,
   "id": "b2153b3a",
   "metadata": {},
   "outputs": [],
   "source": [
    "def calculate_total_distance_travelled(datasets: List[Tuple[str, List[dict]]]) -> None:\n",
    "    \"\"\"\n",
    "    Calculate the total distance travelled across all the vehicles for each input dataset\n",
    "    and write the output to a CSV file\n",
    "    \"\"\"\n",
    "    output_file_path = 'part_b_routes_distance_travelled.csv'\n",
    "    with open(output_file_path, mode='w', newline='') as file:\n",
    "        fieldnames = ['Dataset', 'Vehicle 1 Route', 'Distance', 'Vehicle 2 Route', 'Distance', 'Total Distance']\n",
    "        csv_writer = csv.DictWriter(file, fieldnames=fieldnames)\n",
    "        csv_writer.writeheader()\n",
    "\n",
    "        for i, (file_path, orders) in enumerate(datasets):\n",
    "            routes = calculate_routes(orders, capacity=20)\n",
    "            total_distance = calculate_total_distance(routes)\n",
    "\n",
    "            csv_writer.writerow({\n",
    "                'Dataset': f'part_b_input_dataset_{i+1}',\n",
    "                'Vehicle 1 Route': ', '.join(order['order_id'] for order in routes[0]),\n",
    "                'Distance': round(calculate_total_distance(routes[0]), 2),\n",
    "                'Vehicle 2 Route': ', '.join(order['order_id'] for order in routes[1]),\n",
    "                'Distance': round(calculate_total_distance(routes[1]), 2),\n",
    "                'Total Distance': total_distance\n",
    "            })"
   ]
  },
  {
   "cell_type": "code",
   "execution_count": null,
   "id": "dbc6199a",
   "metadata": {},
   "outputs": [],
   "source": []
  }
 ],
 "metadata": {
  "kernelspec": {
   "display_name": "Python 3 (ipykernel)",
   "language": "python",
   "name": "python3"
  },
  "language_info": {
   "codemirror_mode": {
    "name": "ipython",
    "version": 3
   },
   "file_extension": ".py",
   "mimetype": "text/x-python",
   "name": "python",
   "nbconvert_exporter": "python",
   "pygments_lexer": "ipython3",
   "version": "3.9.12"
  }
 },
 "nbformat": 4,
 "nbformat_minor": 5
}
